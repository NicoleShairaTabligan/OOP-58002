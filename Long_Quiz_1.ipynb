{
  "nbformat": 4,
  "nbformat_minor": 0,
  "metadata": {
    "colab": {
      "name": "Long Quiz 1",
      "provenance": [],
      "authorship_tag": "ABX9TyONyi9hKnMxNmODckj3jKn/",
      "include_colab_link": true
    },
    "kernelspec": {
      "name": "python3",
      "display_name": "Python 3"
    },
    "language_info": {
      "name": "python"
    }
  },
  "cells": [
    {
      "cell_type": "markdown",
      "metadata": {
        "id": "view-in-github",
        "colab_type": "text"
      },
      "source": [
        "<a href=\"https://colab.research.google.com/github/NicoleShairaTabligan/OOP-58002/blob/main/Long_Quiz_1.ipynb\" target=\"_parent\"><img src=\"https://colab.research.google.com/assets/colab-badge.svg\" alt=\"Open In Colab\"/></a>"
      ]
    },
    {
      "cell_type": "code",
      "execution_count": 6,
      "metadata": {
        "colab": {
          "base_uri": "https://localhost:8080/"
        },
        "id": "-PuWdO89cumv",
        "outputId": "417c316f-1aa2-4a4b-d69d-11e1b5d32f4b"
      },
      "outputs": [
        {
          "output_type": "stream",
          "name": "stdout",
          "text": [
            "Please enter the Celsius that you want to convert to Fahrenheit 3\n",
            "The convertion of the given Celsius 3 is  37.4 Fahrenheit\n"
          ]
        }
      ],
      "source": [
        "a=int (input(\"Please enter the Celsius that you want to convert to Fahrenheit\" \" \"))\n",
        "\n",
        "class Temperature:\n",
        "  def __init__(self, Celsius, Fahrenheit):   \n",
        "    self.Celsius = Celsius                       \n",
        "    self.Fahrenheit = Fahrenheit \n",
        "  def myFunction(self):\n",
        "    print(\"The convertion of the given Celsius\",  self.Celsius, \"is \", self.Fahrenheit , \"Fahrenheit\")\n",
        "T1 = Temperature ( a,(a * 9/5)+32)\n",
        "T1.myFunction()\n",
        "\n",
        "\n",
        "\n"
      ]
    }
  ]
}