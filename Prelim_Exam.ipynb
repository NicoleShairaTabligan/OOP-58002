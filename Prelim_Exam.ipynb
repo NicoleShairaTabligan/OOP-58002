{
  "nbformat": 4,
  "nbformat_minor": 0,
  "metadata": {
    "colab": {
      "name": "Prelim Exam",
      "provenance": [],
      "authorship_tag": "ABX9TyM1NzbTcAg7H0JmrRO0dKAr",
      "include_colab_link": true
    },
    "kernelspec": {
      "name": "python3",
      "display_name": "Python 3"
    },
    "language_info": {
      "name": "python"
    }
  },
  "cells": [
    {
      "cell_type": "markdown",
      "metadata": {
        "id": "view-in-github",
        "colab_type": "text"
      },
      "source": [
        "<a href=\"https://colab.research.google.com/github/NicoleShairaTabligan/OOP-58002/blob/main/Prelim_Exam.ipynb\" target=\"_parent\"><img src=\"https://colab.research.google.com/assets/colab-badge.svg\" alt=\"Open In Colab\"/></a>"
      ]
    },
    {
      "cell_type": "code",
      "execution_count": 9,
      "metadata": {
        "colab": {
          "base_uri": "https://localhost:8080/"
        },
        "id": "DR8ajiDUIOfs",
        "outputId": "1a40f2f9-76c5-457b-d061-40eb2cda01e9"
      },
      "outputs": [
        {
          "output_type": "stream",
          "name": "stdout",
          "text": [
            "My Name is Nicole Shaira A. Tabligan 19 years old. My Student Number is 202150371 .\n",
            "I'm taking Bachelor of Science in Computer Engineering at Adamson University\n"
          ]
        }
      ],
      "source": [
        "class Student:\n",
        "  def __init__ (self, name,student_number,age, school,course):\n",
        "    self.name = name\n",
        "    self.student_number= student_number\n",
        "    self.age= age\n",
        "    self.school= school\n",
        "    self.course=course\n",
        "  def myself(self):\n",
        "    print(\"My Name is\", self.name, self.age, \"years old.\", \"My Student Number is\", self.student_number,\".\")\n",
        "    print(\"I'm taking\", self.course, \"at\", self.school)\n",
        "\n",
        "S = Student(\"Nicole Shaira A. Tabligan\", 202150371,19, \"Adamson University\", \"Bachelor of Science in Computer Engineering\")\n",
        "S.myself()"
      ]
    }
  ]
}