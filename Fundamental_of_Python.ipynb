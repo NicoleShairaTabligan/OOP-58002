{
  "nbformat": 4,
  "nbformat_minor": 0,
  "metadata": {
    "colab": {
      "name": "Fundamental of Python",
      "provenance": [],
      "authorship_tag": "ABX9TyNYgk90LB7/6wlU5VleiGYM",
      "include_colab_link": true
    },
    "kernelspec": {
      "name": "python3",
      "display_name": "Python 3"
    },
    "language_info": {
      "name": "python"
    }
  },
  "cells": [
    {
      "cell_type": "markdown",
      "metadata": {
        "id": "view-in-github",
        "colab_type": "text"
      },
      "source": [
        "<a href=\"https://colab.research.google.com/github/NicoleShairaTabligan/OOP-58002/blob/main/Fundamental_of_Python.ipynb\" target=\"_parent\"><img src=\"https://colab.research.google.com/assets/colab-badge.svg\" alt=\"Open In Colab\"/></a>"
      ]
    },
    {
      "cell_type": "markdown",
      "source": [
        "##Fundamentals of Phython"
      ],
      "metadata": {
        "id": "_ebN3kmoJMk9"
      }
    },
    {
      "cell_type": "markdown",
      "source": [
        "Python Indentation"
      ],
      "metadata": {
        "id": "0Le0scRXJn_-"
      }
    },
    {
      "cell_type": "code",
      "source": [
        "if  5>2:\n",
        "  print(\"Yes\")\n",
        "\n"
      ],
      "metadata": {
        "colab": {
          "base_uri": "https://localhost:8080/"
        },
        "id": "BShNT8r9Jmbe",
        "outputId": "09582caf-bb59-4c59-b723-456b1a9ae23f"
      },
      "execution_count": 1,
      "outputs": [
        {
          "output_type": "stream",
          "name": "stdout",
          "text": [
            "Yes\n"
          ]
        }
      ]
    },
    {
      "cell_type": "markdown",
      "source": [
        "Python Comments"
      ],
      "metadata": {
        "id": "egnlejpoKKPU"
      }
    },
    {
      "cell_type": "code",
      "source": [
        "#This is comment\n",
        "print(\"Hello, world\")"
      ],
      "metadata": {
        "colab": {
          "base_uri": "https://localhost:8080/"
        },
        "id": "n0TJ7SnjKPHl",
        "outputId": "798cd7cf-af46-4e7f-e26a-c4de54d2a754"
      },
      "execution_count": 2,
      "outputs": [
        {
          "output_type": "stream",
          "name": "stdout",
          "text": [
            "Hello, world\n"
          ]
        }
      ]
    },
    {
      "cell_type": "markdown",
      "source": [
        "Python Variable"
      ],
      "metadata": {
        "id": "S6dd8pBCLPgs"
      }
    },
    {
      "cell_type": "code",
      "source": [
        "x = \"Sally\"\n",
        "\n",
        "a = 0\n",
        "a,b,c = 0,1,2\n",
        "\n",
        "print(x)\n",
        "print(a)\n",
        "print(b)\n",
        "print(c)\n",
        "print(a,b,c)\n",
        "\n"
      ],
      "metadata": {
        "colab": {
          "base_uri": "https://localhost:8080/"
        },
        "id": "DOrqe39lLTvS",
        "outputId": "13756eba-2bff-49cc-c089-6561bdc4667e"
      },
      "execution_count": 3,
      "outputs": [
        {
          "output_type": "stream",
          "name": "stdout",
          "text": [
            "Sally\n",
            "0\n",
            "1\n",
            "2\n",
            "0 1 2\n"
          ]
        }
      ]
    },
    {
      "cell_type": "markdown",
      "source": [
        "Casting"
      ],
      "metadata": {
        "id": "h1nVgBIeLxeS"
      }
    },
    {
      "cell_type": "code",
      "source": [
        "d =4\n",
        "d = int(4)\n",
        "print(d)"
      ],
      "metadata": {
        "colab": {
          "base_uri": "https://localhost:8080/"
        },
        "id": "hrydspipLzPz",
        "outputId": "8b5e46f1-be4f-4c32-ec70-dddb844edd52"
      },
      "execution_count": 4,
      "outputs": [
        {
          "output_type": "stream",
          "name": "stdout",
          "text": [
            "4\n"
          ]
        }
      ]
    },
    {
      "cell_type": "markdown",
      "source": [
        "Type () function"
      ],
      "metadata": {
        "id": "MZhMn0BOL_lj"
      }
    },
    {
      "cell_type": "code",
      "source": [
        "d =4\n",
        "d = int(4)\n",
        "print(type(d))"
      ],
      "metadata": {
        "colab": {
          "base_uri": "https://localhost:8080/"
        },
        "id": "UzYgyoMfMFyF",
        "outputId": "dfa15f35-bb0b-478c-b356-f933c6b5f3cc"
      },
      "execution_count": 5,
      "outputs": [
        {
          "output_type": "stream",
          "name": "stdout",
          "text": [
            "<class 'int'>\n"
          ]
        }
      ]
    },
    {
      "cell_type": "markdown",
      "source": [
        "Double quotes and single quotes"
      ],
      "metadata": {
        "id": "Z28-6_agMgpq"
      }
    },
    {
      "cell_type": "code",
      "source": [
        "#y = \"Ana\"\n",
        "#print(y)\n",
        "\n",
        "y = 'Ana'\n",
        "Y =\"Robert\"\n",
        "print(y)\n",
        "print(Y)"
      ],
      "metadata": {
        "colab": {
          "base_uri": "https://localhost:8080/"
        },
        "id": "M_478_b4Mkno",
        "outputId": "940d2a22-7689-4def-be10-fd8fb4b866d4"
      },
      "execution_count": 7,
      "outputs": [
        {
          "output_type": "stream",
          "name": "stdout",
          "text": [
            "Ana\n",
            "Robert\n"
          ]
        }
      ]
    },
    {
      "cell_type": "markdown",
      "source": [
        "Multiple Variables with one value"
      ],
      "metadata": {
        "id": "w3m-s_XJNLVK"
      }
    },
    {
      "cell_type": "code",
      "source": [
        "k=l=m= \"four\"\n",
        "print(k)\n",
        "print(l)\n",
        "print(m)\n",
        "print(k,l,m)"
      ],
      "metadata": {
        "colab": {
          "base_uri": "https://localhost:8080/"
        },
        "id": "C7AxdlSBNPWb",
        "outputId": "67eab190-fbaf-4cd0-e472-e9100b07429d"
      },
      "execution_count": 9,
      "outputs": [
        {
          "output_type": "stream",
          "name": "stdout",
          "text": [
            "four\n",
            "four\n",
            "four\n",
            "four four four\n"
          ]
        }
      ]
    },
    {
      "cell_type": "markdown",
      "source": [
        "Output Variable"
      ],
      "metadata": {
        "id": "_e6W6nmBONVS"
      }
    },
    {
      "cell_type": "code",
      "source": [
        "print('Python programming is enjoying')\n",
        "\n",
        "h = \"enjoying\"\n",
        "p = \"Python programming is\"\n",
        "print(\"Python programming is\"+\" \"+ h)\n",
        "print(p+\" \"+h)"
      ],
      "metadata": {
        "colab": {
          "base_uri": "https://localhost:8080/"
        },
        "id": "Xl_7gTh2OQ-D",
        "outputId": "3ba697f7-e8a0-4c9f-9d2c-c47e5ae4f1a9"
      },
      "execution_count": 14,
      "outputs": [
        {
          "output_type": "stream",
          "name": "stdout",
          "text": [
            "Python programming is enjoying\n",
            "Python programming is enjoying\n",
            "Python programming is enjoying\n"
          ]
        }
      ]
    },
    {
      "cell_type": "markdown",
      "source": [
        "Arithmetic Operation"
      ],
      "metadata": {
        "id": "p99zIWGgP2ej"
      }
    },
    {
      "cell_type": "code",
      "source": [
        "print(c+d) #c = 2, d =4\n",
        "print(d-c)\n",
        "print(d*c)\n",
        "print(d/c)\n",
        "print(d//c)\n",
        "print(d**c)\n",
        "\n",
        "\n"
      ],
      "metadata": {
        "colab": {
          "base_uri": "https://localhost:8080/"
        },
        "id": "bKAEGMsdP-Jg",
        "outputId": "443256f1-a144-4942-bb32-926693d95b99"
      },
      "execution_count": 42,
      "outputs": [
        {
          "output_type": "stream",
          "name": "stdout",
          "text": [
            "6\n",
            "2\n",
            "8\n",
            "2.0\n",
            "2\n",
            "16\n"
          ]
        }
      ]
    },
    {
      "cell_type": "markdown",
      "source": [
        "Assignment Operators"
      ],
      "metadata": {
        "id": "eAOIciZVRV0O"
      }
    },
    {
      "cell_type": "code",
      "source": [
        "q=10\n",
        "q+=5 # same as q=q+5\n",
        "\n",
        "print(q)"
      ],
      "metadata": {
        "colab": {
          "base_uri": "https://localhost:8080/"
        },
        "id": "nmYJSWzbRZhV",
        "outputId": "760445d8-86de-4cad-ff6e-81c31e373d67"
      },
      "execution_count": 27,
      "outputs": [
        {
          "output_type": "stream",
          "name": "stdout",
          "text": [
            "15\n"
          ]
        }
      ]
    },
    {
      "cell_type": "markdown",
      "source": [
        "Boolean logic"
      ],
      "metadata": {
        "id": "6CsRiP0XR9Dq"
      }
    },
    {
      "cell_type": "code",
      "source": [
        "s =10\n",
        "print(s^2)\n",
        "print(s|2)"
      ],
      "metadata": {
        "colab": {
          "base_uri": "https://localhost:8080/"
        },
        "id": "FmkIdwxhR_Wx",
        "outputId": "84b6f216-037f-445e-b9c0-6305e8d72a14"
      },
      "execution_count": 28,
      "outputs": [
        {
          "output_type": "stream",
          "name": "stdout",
          "text": [
            "8\n",
            "10\n"
          ]
        }
      ]
    },
    {
      "cell_type": "markdown",
      "source": [
        "Comparison Operators"
      ],
      "metadata": {
        "id": "p1s9NpUJTBMX"
      }
    },
    {
      "cell_type": "code",
      "source": [
        "print(s>q)\n",
        "print(s==s)\n",
        "print(q==q)"
      ],
      "metadata": {
        "colab": {
          "base_uri": "https://localhost:8080/"
        },
        "id": "taOy6igPTFhm",
        "outputId": "82d3c4f2-69ad-4838-d71b-c30748117d1c"
      },
      "execution_count": 32,
      "outputs": [
        {
          "output_type": "stream",
          "name": "stdout",
          "text": [
            "False\n",
            "True\n",
            "True\n"
          ]
        }
      ]
    },
    {
      "cell_type": "markdown",
      "source": [
        "Logical Operators"
      ],
      "metadata": {
        "id": "Jcf1akWYTiMl"
      }
    },
    {
      "cell_type": "code",
      "source": [
        "s>q and s==s\n",
        "s>q or s==s\n",
        "\n",
        "print(s>q and s==s)\n",
        "print(s>q or s==s)"
      ],
      "metadata": {
        "colab": {
          "base_uri": "https://localhost:8080/"
        },
        "id": "LodYqr5bTmfF",
        "outputId": "b47ba86a-dbb8-4bfe-9e2c-cceadb607578"
      },
      "execution_count": 35,
      "outputs": [
        {
          "output_type": "stream",
          "name": "stdout",
          "text": [
            "False\n",
            "True\n"
          ]
        }
      ]
    },
    {
      "cell_type": "markdown",
      "source": [
        "Identity Operators"
      ],
      "metadata": {
        "id": "CdNQ3FDRMgPU"
      }
    },
    {
      "cell_type": "code",
      "source": [
        "s is q\n",
        "print(s is not q)"
      ],
      "metadata": {
        "colab": {
          "base_uri": "https://localhost:8080/"
        },
        "id": "ShMqKvIoUck0",
        "outputId": "a84a963d-c41b-487a-919f-33d108655f4e"
      },
      "execution_count": 36,
      "outputs": [
        {
          "output_type": "stream",
          "name": "stdout",
          "text": [
            "True\n"
          ]
        }
      ]
    },
    {
      "cell_type": "markdown",
      "source": [
        "Bitwise Operators Shift right"
      ],
      "metadata": {
        "id": "5MoxjQYfUl96"
      }
    },
    {
      "cell_type": "code",
      "source": [
        "b= 10 # 1010 in binary\n",
        "print(b>>1)\n",
        "print(b<<1)\n",
        "\n",
        "u=2 # 0001\n",
        "print(u<<1)\n",
        "\n",
        "g=10\n",
        "print(g<<1)\n"
      ],
      "metadata": {
        "colab": {
          "base_uri": "https://localhost:8080/"
        },
        "id": "fSz22XKkU2U4",
        "outputId": "479a7aad-854a-4b12-d817-26e67a90d6a2"
      },
      "execution_count": 44,
      "outputs": [
        {
          "output_type": "stream",
          "name": "stdout",
          "text": [
            "5\n",
            "20\n",
            "4\n",
            "20\n"
          ]
        }
      ]
    }
  ]
}