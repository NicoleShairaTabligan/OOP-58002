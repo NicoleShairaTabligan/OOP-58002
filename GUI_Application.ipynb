{
  "nbformat": 4,
  "nbformat_minor": 0,
  "metadata": {
    "colab": {
      "name": "GUI Application",
      "provenance": [],
      "authorship_tag": "ABX9TyMAKXkfyz1MGcp4CJTWj2rZ",
      "include_colab_link": true
    },
    "kernelspec": {
      "name": "python3",
      "display_name": "Python 3"
    },
    "language_info": {
      "name": "python"
    }
  },
  "cells": [
    {
      "cell_type": "markdown",
      "metadata": {
        "id": "view-in-github",
        "colab_type": "text"
      },
      "source": [
        "<a href=\"https://colab.research.google.com/github/NicoleShairaTabligan/OOP-58002/blob/main/GUI_Application.ipynb\" target=\"_parent\"><img src=\"https://colab.research.google.com/assets/colab-badge.svg\" alt=\"Open In Colab\"/></a>"
      ]
    },
    {
      "cell_type": "markdown",
      "source": [
        "Create a Python program taht display the grades of a student in prelim, midterm and final term"
      ],
      "metadata": {
        "id": "eYUeZLLuaCUX"
      }
    },
    {
      "cell_type": "code",
      "source": [
        "#@title Student's Grade in OOP\n",
        "\n",
        "Student_Name = 'Nicole Shaira Tabligan' #@param {type: \"string\"}\n",
        "Prelim_Grade =  80#@param {type: \"number\"}\n",
        "Midterm_Grade =  89.2#@param {type: \"number\"}\n",
        "Finalterm_Grade =  89#@param {type: \"number\"}\n",
        "Semestral = (Prelim_Grade*0.30 + Midterm_Grade*0.30 + Finalterm_Grade*0.40)\n",
        "\n",
        "#print(\"The semestral grade of the student is\", \" \" + str(round(Semestral)))\n",
        "\n",
        "print(\"The semestral grade of the student is\", \" \"+str(round((Semestral),2)))\n",
        "Gender =  \"Female\" #@param [\"Male\", \"Female\"]\n",
        "Birthday = \"2022-03-29\" #@param {type: \"date\"}\n",
        "\n",
        "print(Gender)\n",
        "print(\"My Birthday is\" + \" \" +(Birthday))"
      ],
      "metadata": {
        "colab": {
          "base_uri": "https://localhost:8080/"
        },
        "id": "pZnHCQVPaaDC",
        "outputId": "e7e008d0-4a15-4581-a0b1-ec8aa4755e63"
      },
      "execution_count": 27,
      "outputs": [
        {
          "output_type": "stream",
          "name": "stdout",
          "text": [
            "The semestral grade of the student is  86.36\n",
            "Female\n",
            "My Birthday is 2022-03-29\n"
          ]
        }
      ]
    }
  ]
}