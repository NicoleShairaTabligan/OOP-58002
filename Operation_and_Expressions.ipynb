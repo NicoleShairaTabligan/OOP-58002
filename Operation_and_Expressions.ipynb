{
  "nbformat": 4,
  "nbformat_minor": 0,
  "metadata": {
    "colab": {
      "name": "Operation and Expressions",
      "provenance": [],
      "authorship_tag": "ABX9TyO+408DScKugoGcTUWpbDqz",
      "include_colab_link": true
    },
    "kernelspec": {
      "name": "python3",
      "display_name": "Python 3"
    },
    "language_info": {
      "name": "python"
    }
  },
  "cells": [
    {
      "cell_type": "markdown",
      "metadata": {
        "id": "view-in-github",
        "colab_type": "text"
      },
      "source": [
        "<a href=\"https://colab.research.google.com/github/NicoleShairaTabligan/OOP-58002/blob/main/Operation_and_Expressions.ipynb\" target=\"_parent\"><img src=\"https://colab.research.google.com/assets/colab-badge.svg\" alt=\"Open In Colab\"/></a>"
      ]
    },
    {
      "cell_type": "markdown",
      "source": [
        "\n",
        "Boolean Operators\n",
        "```\n",
        "# This is formatted as code\n",
        "```\n",
        "\n"
      ],
      "metadata": {
        "id": "pC6Ac21LDRMz"
      }
    },
    {
      "cell_type": "code",
      "source": [
        "a = 7\n",
        "b = 6\n",
        "\n",
        "print(10 > 9)\n",
        "print(10 < 9)\n",
        "print(a > b)\n"
      ],
      "metadata": {
        "colab": {
          "base_uri": "https://localhost:8080/"
        },
        "id": "kuwV0v-9DVuM",
        "outputId": "b2ec04c0-b476-453a-f3cd-a7dfcc597828"
      },
      "execution_count": 2,
      "outputs": [
        {
          "output_type": "stream",
          "name": "stdout",
          "text": [
            "True\n",
            "False\n",
            "False\n",
            "True\n"
          ]
        }
      ]
    },
    {
      "cell_type": "markdown",
      "source": [
        "bool() function"
      ],
      "metadata": {
        "id": "e0AetJJxEzRi"
      }
    },
    {
      "cell_type": "code",
      "source": [
        "print(bool(\"Nicole\")) \n",
        "print(bool(1)) \n",
        "print(bool(0)) \n",
        "print(bool(None)) \n",
        "print(bool(False))\n",
        "print(bool(True))  "
      ],
      "metadata": {
        "colab": {
          "base_uri": "https://localhost:8080/"
        },
        "id": "hTROFDEME2iY",
        "outputId": "5a615cf0-9a03-4752-c8ea-2d085f2dd1eb"
      },
      "execution_count": 3,
      "outputs": [
        {
          "output_type": "stream",
          "name": "stdout",
          "text": [
            "True\n",
            "True\n",
            "False\n",
            "False\n",
            "False\n",
            "True\n"
          ]
        }
      ]
    },
    {
      "cell_type": "markdown",
      "source": [
        "Functions can return a Boolean"
      ],
      "metadata": {
        "id": "iwGbOCjNFohr"
      }
    },
    {
      "cell_type": "code",
      "source": [
        "def my_Function():\n",
        "  return True\n",
        "\n",
        "print(my_Function())"
      ],
      "metadata": {
        "colab": {
          "base_uri": "https://localhost:8080/"
        },
        "id": "sfj81HICFs-T",
        "outputId": "7fbbe0fc-0e87-40be-9913-11a785505447"
      },
      "execution_count": 4,
      "outputs": [
        {
          "output_type": "stream",
          "name": "stdout",
          "text": [
            "True\n"
          ]
        }
      ]
    },
    {
      "cell_type": "code",
      "source": [
        "if my_Function():\n",
        "  print(\"True\")\n",
        "else:\n",
        "  print(\"False\")"
      ],
      "metadata": {
        "colab": {
          "base_uri": "https://localhost:8080/"
        },
        "id": "DyWyAqmUGiRi",
        "outputId": "9e6baa76-2812-4fc2-a333-a5974d423a85"
      },
      "execution_count": 5,
      "outputs": [
        {
          "output_type": "stream",
          "name": "stdout",
          "text": [
            "True\n"
          ]
        }
      ]
    },
    {
      "cell_type": "markdown",
      "source": [
        "Application 1"
      ],
      "metadata": {
        "id": "e1RXcSTzKI9U"
      }
    },
    {
      "cell_type": "code",
      "source": [
        "print(10>9)\n",
        "\n",
        "print(a==b)\n",
        "print(a!=b)"
      ],
      "metadata": {
        "colab": {
          "base_uri": "https://localhost:8080/"
        },
        "id": "GQi-5s4SKLj9",
        "outputId": "d62550eb-feba-4f87-8856-2b55dcccced3"
      },
      "execution_count": 41,
      "outputs": [
        {
          "output_type": "stream",
          "name": "stdout",
          "text": [
            "True\n",
            "False\n",
            "True\n"
          ]
        }
      ]
    },
    {
      "cell_type": "markdown",
      "source": [
        "Python Operator"
      ],
      "metadata": {
        "id": "t4bPyCkdL-3H"
      }
    },
    {
      "cell_type": "code",
      "source": [
        "print(10+5)\n",
        "print(10-5)\n",
        "print(10*5)\n",
        "print(10/5)\n",
        "print(10%5)\n",
        "print(10//3)      # 10/3 = 3.3333\n",
        "print(10**2)"
      ],
      "metadata": {
        "colab": {
          "base_uri": "https://localhost:8080/"
        },
        "id": "oe45FSyyMB43",
        "outputId": "d9abce5e-d5a1-41dc-99e7-b7b25e992c48"
      },
      "execution_count": 16,
      "outputs": [
        {
          "output_type": "stream",
          "name": "stdout",
          "text": [
            "15\n",
            "5\n",
            "50\n",
            "2.0\n",
            "0\n",
            "3\n",
            "100\n"
          ]
        }
      ]
    },
    {
      "cell_type": "markdown",
      "source": [
        "Bitwise Operation"
      ],
      "metadata": {
        "id": "3cMNhvVfNO92"
      }
    },
    {
      "cell_type": "code",
      "source": [
        "c = 60 # binary 0011 1100\n",
        "d = 13 # binary 0000 1101\n",
        "\n",
        "c&d\n",
        "print(c|d)\n",
        "print(c^d)\n",
        "\n",
        "print(d<<2)"
      ],
      "metadata": {
        "colab": {
          "base_uri": "https://localhost:8080/"
        },
        "id": "2K6cgBbBNqD9",
        "outputId": "c3c7a084-245e-4699-ff26-08fc376343bd"
      },
      "execution_count": 20,
      "outputs": [
        {
          "output_type": "stream",
          "name": "stdout",
          "text": [
            "61\n",
            "49\n",
            "52\n"
          ]
        }
      ]
    },
    {
      "cell_type": "markdown",
      "source": [
        "Logical Operators"
      ],
      "metadata": {
        "id": "qW_6AaB-PoK8"
      }
    },
    {
      "cell_type": "code",
      "source": [
        "c and d\n",
        "\n",
        "h = True\n",
        "l = False\n",
        "h and l\n",
        "h or l"
      ],
      "metadata": {
        "colab": {
          "base_uri": "https://localhost:8080/"
        },
        "id": "Gpj3VMTdPr8y",
        "outputId": "766a4e0a-f42d-40b0-b069-7dc7657537b6"
      },
      "execution_count": 22,
      "outputs": [
        {
          "output_type": "execute_result",
          "data": {
            "text/plain": [
              "True"
            ]
          },
          "metadata": {},
          "execution_count": 22
        }
      ]
    },
    {
      "cell_type": "markdown",
      "source": [
        "Application 2"
      ],
      "metadata": {
        "id": "_9UvtPlzQSGB"
      }
    },
    {
      "cell_type": "code",
      "source": [
        "#Python Assignment Operators\n",
        "x=100\n",
        "\n",
        "x+=3    #Same As x = x + 3,  x = 100+3=103\n",
        "print(x)\n",
        "x-=3     #Same As x = x - 3\n",
        "print(x)\n",
        "x*=3    #Same As x = x * 3\n",
        "print(x)\n",
        "x/=3     #Same As x = x / 3\n",
        "print(int(x))\n",
        "x%=3  #Same As x = x % 3\n",
        "print(int(x))"
      ],
      "metadata": {
        "colab": {
          "base_uri": "https://localhost:8080/"
        },
        "id": "YY5OXe5uRfaP",
        "outputId": "b05ab0ce-da68-40a7-cdbf-850e69d37763"
      },
      "execution_count": 32,
      "outputs": [
        {
          "output_type": "stream",
          "name": "stdout",
          "text": [
            "103\n",
            "100\n",
            "300\n",
            "100\n",
            "1\n"
          ]
        }
      ]
    },
    {
      "cell_type": "markdown",
      "source": [
        "Identity Operators"
      ],
      "metadata": {
        "id": "mL7eoCNwS9YG"
      }
    },
    {
      "cell_type": "code",
      "source": [
        "h is l\n",
        "h is not l"
      ],
      "metadata": {
        "colab": {
          "base_uri": "https://localhost:8080/"
        },
        "id": "fBEi2qYyTBAI",
        "outputId": "233b8aba-d075-49ab-e216-eb9ec0e93f29"
      },
      "execution_count": 34,
      "outputs": [
        {
          "output_type": "execute_result",
          "data": {
            "text/plain": [
              "True"
            ]
          },
          "metadata": {},
          "execution_count": 34
        }
      ]
    },
    {
      "cell_type": "markdown",
      "source": [
        "#Control Structure"
      ],
      "metadata": {
        "id": "s9jnXoQKTNgg"
      }
    },
    {
      "cell_type": "markdown",
      "source": [
        "If Statement"
      ],
      "metadata": {
        "id": "SDAKTHFrTTQC"
      }
    },
    {
      "cell_type": "code",
      "source": [
        "if a>b: \n",
        "  print(\"a is greater than b\")"
      ],
      "metadata": {
        "id": "UZ0yH17qTzyW"
      },
      "execution_count": 48,
      "outputs": []
    },
    {
      "cell_type": "markdown",
      "source": [
        "Elif Statement"
      ],
      "metadata": {
        "id": "Eeri72D-Ua94"
      }
    },
    {
      "cell_type": "code",
      "source": [
        "if a<b:\n",
        "  print(\"a is less than b\")\n",
        "elif a>b:\n",
        "  print(\"a is greater than b\")"
      ],
      "metadata": {
        "colab": {
          "base_uri": "https://localhost:8080/"
        },
        "id": "DBSX-MUjUeEQ",
        "outputId": "e75a0759-366c-456f-b383-9e23d50cc15e"
      },
      "execution_count": 43,
      "outputs": [
        {
          "output_type": "stream",
          "name": "stdout",
          "text": [
            "a is less than b\n"
          ]
        }
      ]
    },
    {
      "cell_type": "markdown",
      "source": [
        "Else Statement"
      ],
      "metadata": {
        "id": "oo9_Jw_4U67r"
      }
    },
    {
      "cell_type": "code",
      "source": [
        "a = 10\n",
        "b = 10\n",
        "\n",
        "if a<b:\n",
        "  print(\"a is less than b\")\n",
        "elif a>b:\n",
        "  print(\"a is greater than b\")\n",
        "else:\n",
        "  print(\"a is equal to b\")"
      ],
      "metadata": {
        "colab": {
          "base_uri": "https://localhost:8080/"
        },
        "id": "Hd8QpNWoU-Uy",
        "outputId": "d97ec539-7be4-499b-ceb5-83a099635f48"
      },
      "execution_count": 44,
      "outputs": [
        {
          "output_type": "stream",
          "name": "stdout",
          "text": [
            "a is equal to b\n"
          ]
        }
      ]
    },
    {
      "cell_type": "markdown",
      "source": [
        "Short Hand If Statement"
      ],
      "metadata": {
        "id": "sJt63cTlVRbS"
      }
    },
    {
      "cell_type": "code",
      "source": [
        "if a==b: print(\"a is equal to b\")"
      ],
      "metadata": {
        "colab": {
          "base_uri": "https://localhost:8080/"
        },
        "id": "bz4GLf-pVP-M",
        "outputId": "5d3d30c8-df88-495d-c837-079682d31583"
      },
      "execution_count": 46,
      "outputs": [
        {
          "output_type": "stream",
          "name": "stdout",
          "text": [
            "a is equal to b\n"
          ]
        }
      ]
    },
    {
      "cell_type": "markdown",
      "source": [
        "Short Hand If... Else Statement"
      ],
      "metadata": {
        "id": "NhsbdIF5VxLe"
      }
    },
    {
      "cell_type": "code",
      "source": [
        "a = 10\n",
        "b = 9\n",
        "print(\"a is greater than b\") if a>b else print(\"b is greater than a\")"
      ],
      "metadata": {
        "colab": {
          "base_uri": "https://localhost:8080/"
        },
        "id": "m5Fj5-SgV5vV",
        "outputId": "2313d6d1-3336-48a4-a1fc-8edcbdbedacb"
      },
      "execution_count": 54,
      "outputs": [
        {
          "output_type": "stream",
          "name": "stdout",
          "text": [
            "a is greater than b\n"
          ]
        }
      ]
    },
    {
      "cell_type": "markdown",
      "source": [
        "And"
      ],
      "metadata": {
        "id": "_4MgeKtgWqrH"
      }
    },
    {
      "cell_type": "code",
      "source": [
        "if a>b and b==b:\n",
        "  print(\"both condition are True\")\n"
      ],
      "metadata": {
        "colab": {
          "base_uri": "https://localhost:8080/"
        },
        "id": "PIaewD94Ws1x",
        "outputId": "db8d3eaf-9199-434b-dda5-6c43253c903c"
      },
      "execution_count": 58,
      "outputs": [
        {
          "output_type": "stream",
          "name": "stdout",
          "text": [
            "both condition are True\n"
          ]
        }
      ]
    },
    {
      "cell_type": "markdown",
      "source": [
        "Or"
      ],
      "metadata": {
        "id": "v3acQpzZXYQx"
      }
    },
    {
      "cell_type": "code",
      "source": [
        "if a<b or b==b:\n",
        "  print(\"the condition are True\")"
      ],
      "metadata": {
        "colab": {
          "base_uri": "https://localhost:8080/"
        },
        "id": "wvBI8B6vXZwx",
        "outputId": "a2c44afb-6da6-4158-9531-ea8c579e6acf"
      },
      "execution_count": 60,
      "outputs": [
        {
          "output_type": "stream",
          "name": "stdout",
          "text": [
            "the condition are True\n"
          ]
        }
      ]
    },
    {
      "cell_type": "markdown",
      "source": [
        "Nested if"
      ],
      "metadata": {
        "id": "d1hubH3fX3-k"
      }
    },
    {
      "cell_type": "code",
      "source": [
        "x = 30\n",
        "\n",
        "if x>10:\n",
        "  print(\"x is above 10\")\n",
        "  if x>20:\n",
        "   print(\"and also above 20\")\n",
        "   if x>30: \n",
        "     print(\"and also above 30\")\n",
        "     if x>40:\n",
        "       print(\"and also above 40\")        \n",
        "     else:\n",
        "       print(\"but not above 40\")\n",
        "\n",
        "    "
      ],
      "metadata": {
        "colab": {
          "base_uri": "https://localhost:8080/"
        },
        "id": "I6xHCDedX9cz",
        "outputId": "67dba74a-9727-4f19-a3ba-8dc4a5d4f33a"
      },
      "execution_count": 5,
      "outputs": [
        {
          "output_type": "stream",
          "name": "stdout",
          "text": [
            "x is above 10\n",
            "and also above 20\n"
          ]
        }
      ]
    },
    {
      "cell_type": "markdown",
      "source": [
        "#Loop Statement"
      ],
      "metadata": {
        "id": "ZJE_UVPoapXJ"
      }
    },
    {
      "cell_type": "markdown",
      "source": [
        "For Loop"
      ],
      "metadata": {
        "id": "aL08v22qatYD"
      }
    },
    {
      "cell_type": "code",
      "source": [
        "week = [\"Sunday\",\"Monday\", \"Tuesday\", \"Wednesday\", \"Thursday\", \"Friday\", \"Saturday\"]\n",
        "\n",
        "for x in week:\n",
        " print(x)\n"
      ],
      "metadata": {
        "id": "q_8Gynk1a9DM",
        "outputId": "804fe45b-01c8-4bd4-c02c-d2931d866b86",
        "colab": {
          "base_uri": "https://localhost:8080/"
        }
      },
      "execution_count": 9,
      "outputs": [
        {
          "output_type": "stream",
          "name": "stdout",
          "text": [
            "Sunday\n",
            "Monday\n",
            "Tuesday\n",
            "Wednesday\n",
            "Thursday\n",
            "Friday\n",
            "Saturday\n"
          ]
        }
      ]
    },
    {
      "cell_type": "markdown",
      "source": [
        "The break statement"
      ],
      "metadata": {
        "id": "veKjcWcWbZi8"
      }
    },
    {
      "cell_type": "code",
      "source": [
        "#to display Sunday to Wednesday using For loop\n",
        "for x in week:\n",
        "  print(x)\n",
        "  if x==\"Wednesday\":\n",
        "    break"
      ],
      "metadata": {
        "id": "Kioz7psibrDx",
        "outputId": "ef3858b1-a2e7-4b9b-ee48-22b0d7e26c0d",
        "colab": {
          "base_uri": "https://localhost:8080/"
        }
      },
      "execution_count": 12,
      "outputs": [
        {
          "output_type": "stream",
          "name": "stdout",
          "text": [
            "Sunday\n",
            "Monday\n",
            "Tuesday\n",
            "Wednesday\n"
          ]
        }
      ]
    },
    {
      "cell_type": "code",
      "source": [
        "#to display only Wednesday using break statement\n",
        "for x in week:\n",
        "  if x==\"Wednesday\":\n",
        "    break \n",
        "print(x)"
      ],
      "metadata": {
        "id": "M2khU1UUcxUY",
        "outputId": "9498baa5-24dc-4e82-ae50-3a4790635016",
        "colab": {
          "base_uri": "https://localhost:8080/"
        }
      },
      "execution_count": 14,
      "outputs": [
        {
          "output_type": "stream",
          "name": "stdout",
          "text": [
            "Wednesday\n"
          ]
        }
      ]
    },
    {
      "cell_type": "markdown",
      "source": [
        "While Statement"
      ],
      "metadata": {
        "id": "arUm7aSPdEgP"
      }
    },
    {
      "cell_type": "code",
      "source": [
        "i = 1\n",
        "while i<6:\n",
        "  print(i)\n",
        "  i+=1 #same as i = i +1"
      ],
      "metadata": {
        "id": "v0kjaY4QdHVz",
        "outputId": "2733d2ff-fb9d-4126-84a2-06bb42761f0e",
        "colab": {
          "base_uri": "https://localhost:8080/"
        }
      },
      "execution_count": 16,
      "outputs": [
        {
          "output_type": "stream",
          "name": "stdout",
          "text": [
            "1\n",
            "2\n",
            "3\n",
            "4\n",
            "5\n"
          ]
        }
      ]
    },
    {
      "cell_type": "markdown",
      "source": [
        "Application 3 - Create a python program that display no.3 using break statement"
      ],
      "metadata": {
        "id": "bQZJ_fw8dgBc"
      }
    },
    {
      "cell_type": "code",
      "source": [
        "i = 1\n",
        "while i<6:\n",
        "  if i==3:\n",
        "    break\n",
        "  i+=1\n",
        "print(i)\n"
      ],
      "metadata": {
        "id": "XAvY0XKieqGo",
        "outputId": "1236c385-8970-46dd-e763-66cbcaafe7b2",
        "colab": {
          "base_uri": "https://localhost:8080/"
        }
      },
      "execution_count": 18,
      "outputs": [
        {
          "output_type": "stream",
          "name": "stdout",
          "text": [
            "3\n"
          ]
        }
      ]
    }
  ]
}